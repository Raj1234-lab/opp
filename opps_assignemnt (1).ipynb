{
  "nbformat": 4,
  "nbformat_minor": 0,
  "metadata": {
    "colab": {
      "provenance": []
    },
    "kernelspec": {
      "name": "python3",
      "display_name": "Python 3"
    },
    "language_info": {
      "name": "python"
    }
  },
  "cells": [
    {
      "cell_type": "markdown",
      "source": [
        "theory question"
      ],
      "metadata": {
        "id": "AvahcVABEp90"
      }
    },
    {
      "cell_type": "markdown",
      "source": [
        "question1\n",
        "\n",
        "what is object-oriented programming(oop)?\n",
        "\n",
        "answer\n",
        "\n",
        "Object-oriented programming (OOP) is a programming paradigm that organizes software design around data, or objects, rather than functions and logic. It involves creating objects that encapsulate both data (attributes) and the functions (methods) that operate on that data."
      ],
      "metadata": {
        "id": "SAEFl13sEwHP"
      }
    },
    {
      "cell_type": "markdown",
      "source": [
        "question2\n",
        "\n",
        "what is a class in oop?\n",
        "\n",
        "answer\n",
        "\n",
        "In Object-Oriented Programming (OOP), a class is a blueprint or template for creating objects. It defines the properties (data members) and behaviors (member functions or methods) that objects of that class will have."
      ],
      "metadata": {
        "id": "LuifXydCFRfT"
      }
    },
    {
      "cell_type": "markdown",
      "source": [
        "question3\n",
        "\n",
        "what is an object in oop?\n",
        "\n",
        "answer\n",
        "\n",
        "In Object-Oriented Programming (OOP), an object is a fundamental unit that encapsulates data and the code that operates on that data. It's essentially a real-world entity with specific characteristics (data) and behaviors (methods)."
      ],
      "metadata": {
        "id": "bn_bG1D_FnvP"
      }
    },
    {
      "cell_type": "markdown",
      "source": [
        "question4\n",
        "\n",
        "what is the difference between abstraction and encapsulation?\n",
        "\n",
        "answer\n",
        "\n",
        "Abstraction focuses on simplifying complex systems by exposing only the necessary functionality, while encapsulation bundles data and methods within a single unit, controlling access and ensuring data protection.\n",
        "\n",
        "Encapsultion is the concept of binding data and methods and preventing it from unauthorized access. It wraps up data and functions under a single unit"
      ],
      "metadata": {
        "id": "HJWsoj4BGAXS"
      }
    },
    {
      "cell_type": "markdown",
      "source": [
        "question5\n",
        "\n",
        "what are dunder methods in python?\n",
        "\n",
        "answer\n",
        "\n",
        "Dunder methods, also known as magic methods or special methods, are a core part of Python's object model. They are distinguished by their names, which begin and end with double underscores (e.g., __init__, __str__, __add__).\n"
      ],
      "metadata": {
        "id": "D5S2SUbtGee6"
      }
    },
    {
      "cell_type": "markdown",
      "source": [
        "question6\n",
        "\n",
        "explain the concept of inheritence in opp?\n",
        "\n",
        "answer\n",
        "\n",
        "n Object-Oriented Programming (OOP), inheritance is a mechanism that allows a class (the \"child\" or \"subclass\") to inherit properties and methods from another class (the \"parent\" or \"superclass\")."
      ],
      "metadata": {
        "id": "RfsS2k1eGywA"
      }
    },
    {
      "cell_type": "markdown",
      "source": [
        "question7\n",
        "\n",
        "what is polymorphism in opp?\n",
        "\n",
        "answer\n",
        "\n",
        "In Object-Oriented Programming (OOP), polymorphism allows objects of different classes to be treated as objects of a common superclass, or in other words, to have multiple forms.\n"
      ],
      "metadata": {
        "id": "vLc9y--YHWm2"
      }
    },
    {
      "cell_type": "markdown",
      "source": [
        "question8\n",
        "\n",
        "how is encapsulation achieved in python?\n",
        "\n",
        "answer\n",
        "\n",
        "Encapsulation in Python, while not enforced with strict access modifiers like public, private, or protected in other languages, is achieved through conventions and mechanisms that promote data hiding and controlled access."
      ],
      "metadata": {
        "id": "etho_iCRHmk2"
      }
    },
    {
      "cell_type": "markdown",
      "source": [
        "question9\n",
        "\n",
        "what is the constructer in python?\n",
        "\n",
        "answer\n",
        "\n",
        "In Python, a constructor is a special method within a class that is automatically called when a new object (instance) of that class is created. Its primary purpose is to initialize the object's attributes and set up its initial state.\n"
      ],
      "metadata": {
        "id": "soVM2Ik-H-U5"
      }
    },
    {
      "cell_type": "markdown",
      "source": [
        "question10\n",
        "\n",
        "what are class and static methods in python?\n",
        "\n",
        "answer\n",
        "\n",
        "Class Methods:\n",
        "Class methods are bound to the class itself, not to an instance of the class.\n",
        "They are defined using the @classmethod decorator.\n",
        "\n",
        "static methods:\n",
        "\n",
        "Static methods are not bound to either the class or an instance of the class.\n",
        "They are defined using the @staticmethod decorator.\n"
      ],
      "metadata": {
        "id": "2u4-BjkoIZFT"
      }
    },
    {
      "cell_type": "markdown",
      "source": [
        "question11\n",
        "\n",
        "what is method overloading in python?\n",
        "\n",
        "answer\n",
        "\n",
        "Method overloading, in the context of programming, refers to the ability to define multiple methods within a class that share the same name but differ in their parameters (either in number or type).\n",
        "\n"
      ],
      "metadata": {
        "id": "ohbsabwZI0zf"
      }
    },
    {
      "cell_type": "markdown",
      "source": [
        "question12\n",
        "\n",
        "what is method overriding in python?\n",
        "\n",
        "answer\n",
        "\n",
        "Method overriding in Python is a feature of object-oriented programming that allows a subclass (child class) to provide its own specific implementation of a method that is already defined in its superclass (parent class).\n",
        "\n"
      ],
      "metadata": {
        "id": "R11SDDk2JHQm"
      }
    },
    {
      "cell_type": "markdown",
      "source": [
        "question13\n",
        "\n",
        "what is a property decorator in python?\n",
        "\n",
        "answer\n",
        "\n",
        "In Python, the property decorator is a built-in decorator that allows you to define methods within a class that can be accessed and manipulated as if they were attributes. It provides a way to encapsulate the logic associated with accessing, setting, or deleting an attribute, while still presenting a clean, attribute-like interface to the user.\n"
      ],
      "metadata": {
        "id": "mDLEB6v6JdSD"
      }
    },
    {
      "cell_type": "markdown",
      "source": [
        "question14\n",
        "\n",
        "why is polymorphism important in oop?\n",
        "\n",
        "answer\n",
        "\n",
        "Polymorphism is crucial in OOP because it enables code reuse, flexibility, and maintainability. It allows different objects to share the same interface while having their own specific behaviors. This is achieved through inheritance, where subclasses inherit from a superclass or base class, and can then implement methods in a way that's unique to them.\n"
      ],
      "metadata": {
        "id": "tARxZhz0JxQ1"
      }
    },
    {
      "cell_type": "markdown",
      "source": [
        "question 15\n",
        "\n",
        "what is an abstract class in python?\n",
        "\n",
        "answer\n",
        "\n",
        "An abstract class in Python serves as a blueprint for other classes and cannot be instantiated directly. It is designed to be inherited by subclasses, which are then responsible for providing concrete implementations for any abstract methods declared within the abstract class."
      ],
      "metadata": {
        "id": "CSE6x5fGKINw"
      }
    },
    {
      "cell_type": "markdown",
      "source": [
        "question16\n",
        "\n",
        "what are the advantages of oop?\n",
        "\n",
        "answer\n",
        "\n",
        "Object-oriented programming (OOP) offers numerous advantages over other programming paradigms, including enhanced code organization, reusability, and maintainability. It facilitates modularity, making code easier to understand, debug, and modify. OOP also promotes code reuse through inheritance and polymorphism\n"
      ],
      "metadata": {
        "id": "u2Wi6ynGKXPX"
      }
    },
    {
      "cell_type": "markdown",
      "source": [
        "question17\n",
        "\n",
        "what is the difference between a class variable and an instance variable?\n",
        "\n",
        "answer\n",
        "\n",
        "\n",
        "Instance Variable: It is basically a class variable without a static modifier and is usually shared by all class instances. Across different objects, these variables can have different values\n",
        "\n",
        "Class Variable: It is basically a static variable that can be declared anywhere at class level with static. Across different objects, these variables can have only one value.\n",
        "\n"
      ],
      "metadata": {
        "id": "4NFjNeuiKo0X"
      }
    },
    {
      "cell_type": "markdown",
      "source": [
        "question18\n",
        "\n",
        "what is multiple inheritance in python?\n",
        "\n",
        "answer\n",
        "\n",
        "Multiple inheritance in Python is a feature where a class can inherit attributes and methods from more than one parent class. This means a single child class can be derived from two or more base classes, combining their functionalities."
      ],
      "metadata": {
        "id": "Mao0ZQj-LEPa"
      }
    },
    {
      "cell_type": "markdown",
      "source": [
        "question19\n",
        "\n",
        "explain the purpose of \"__str__'and'__repr__'\"methods in python.\n",
        "\n",
        "answer\n",
        "\n",
        "__str__ (for users):\n",
        "This method provides an \"informal\" or \"human-readable\" string representation of an object. It is called by the str() function and implicitly by the print() function.\n",
        "\n",
        "__repr__ (for developers/debugging):\n",
        "This method provides an \"official\" or \"unambiguous\" string representation of an object. It is called by the repr() function and by the interactive interpreter when an object is displayed without explicitly calling print()."
      ],
      "metadata": {
        "id": "Endc7-xmLUg8"
      }
    },
    {
      "cell_type": "markdown",
      "source": [
        "question20\n",
        "\n",
        "what is the significance of the 'super()'funtion in python?\n",
        "\n",
        "answer\n",
        "\n",
        "The super() function in Python holds significant importance in the context of object-oriented programming, particularly within inheritance hierarchies. Its primary role is to provide a way to access methods and properties of a parent or sibling class from within a child class."
      ],
      "metadata": {
        "id": "6J6iXTShL5o-"
      }
    },
    {
      "cell_type": "markdown",
      "source": [
        "question21\n",
        "\n",
        "what is the significance of the __del__method in python?\n",
        "\n",
        "answer\n",
        "\n",
        "n Python, the __del__ method is a special method, often referred to as a \"destructor\" or \"finalizer.\"\n",
        "The __del__ method is automatically called by the Python garbage collector when an object is about to be destroyed.\n"
      ],
      "metadata": {
        "id": "sHADRBN0MM27"
      }
    },
    {
      "cell_type": "markdown",
      "source": [
        "question22\n",
        "\n",
        "what is the difference beteween @stasticmethod and @classmethod in python?\n",
        "\n",
        "answer\n",
        "\n",
        "In Python, both @staticmethod and @classmethod are decorators used to define methods within a class that do not require an instance of the class to be called.\n",
        "\n",
        "@classmethod:\n",
        "Takes the class itself as its first argument, conventionally named cls.\n",
        "Can access and modify class-level attributes.\n",
        "Is often used for \"factory methods\" that create instances of the class in different ways.\n",
        "\n",
        "@staticmethod:\n",
        "Does not take self (instance) or cls (class) as its first argument.\n",
        "Cannot access or modify class-level attributes or instance attributes directly.\n",
        "Behaves like a regular function placed inside a class for organizational purposes."
      ],
      "metadata": {
        "id": "7WqzshbOM6XQ"
      }
    },
    {
      "cell_type": "markdown",
      "source": [
        "QUESTION 23\n",
        "\n",
        "how does polymorphism work in python with inheritance?\n",
        "\n",
        "answer\n",
        "\n",
        "n Python, polymorphism with inheritance is primarily achieved through method overriding.\n",
        "\n",
        "Inheritance:\n",
        "A child class (subclass) inherits methods and attributes from its parent class (superclass). This means the child class initially has access to all the functionalities defined in the parent.\n",
        "Polymorphic Behavior:\n",
        "When an object of the child class calls the overridden method, Python's runtime determines the correct implementation to execute based on the actual type of the object"
      ],
      "metadata": {
        "id": "j7bAoodyNp7Y"
      }
    },
    {
      "cell_type": "markdown",
      "source": [
        "QUESTION 24\n",
        "\n",
        "what is method chaining in python opp?\n",
        "\n",
        "\n",
        "answer\n",
        "\n",
        "Method chaining in Python OOP refers to the practice of calling multiple methods on an object sequentially in a single line of code. This is achieved by having each method return the object itself (self) after performing its operation."
      ],
      "metadata": {
        "id": "i0I8oTaCOXPK"
      }
    },
    {
      "cell_type": "markdown",
      "source": [
        "QUESTION 25\n",
        "\n",
        "what is purpose of the __call __ method in python?\n",
        "\n",
        "answer\n",
        "\n",
        "The primary purpose of the __call__ method in Python is to make instances of a class callable, meaning they can be invoked like functions.\n",
        "When you define the __call__ method within a class, and then create an instance of that class, you can subsequently \"call\" the instance as if it were a regular function."
      ],
      "metadata": {
        "id": "iZmLnjzrO6ZG"
      }
    },
    {
      "cell_type": "code",
      "execution_count": 72,
      "metadata": {
        "id": "F83bTMUViFvF"
      },
      "outputs": [],
      "source": [
        "#Question1\n",
        "#create a parent class animal with a method speak()that printa a generic message.create a child class dog that overrides the speak()to print\"bark!\""
      ]
    },
    {
      "cell_type": "code",
      "source": [
        "class animal:\n",
        "    def speak(self):\n",
        "        print(\"generic message\")\n",
        "class dog(animal):\n",
        "    def speak(self):\n",
        "        print(\"bark!\")\n",
        "        super().speak()\n",
        "class cat(animal):\n",
        "    def speak(self):\n",
        "        print(\"meow!\")\n",
        "        super().speak()\n",
        "d=dog()\n",
        "d.speak()\n",
        "c=cat()\n",
        "c.speak()"
      ],
      "metadata": {
        "colab": {
          "base_uri": "https://localhost:8080/"
        },
        "id": "qeP4SK5viwMS",
        "outputId": "0939200e-709a-490c-8c27-f441dea5e890"
      },
      "execution_count": 4,
      "outputs": [
        {
          "output_type": "stream",
          "name": "stdout",
          "text": [
            "bark!\n",
            "generic message\n",
            "meow!\n",
            "generic message\n"
          ]
        }
      ]
    },
    {
      "cell_type": "code",
      "source": [
        "#qustion2\n",
        "#write a program to create an abstrract class shape with a method area ().derive classes cirlcle and rectangle from it and implement the area()method in both."
      ],
      "metadata": {
        "id": "4IlBItF6jvfa"
      },
      "execution_count": 73,
      "outputs": []
    },
    {
      "cell_type": "code",
      "source": [
        "class shape:\n",
        "    def area(self):\n",
        "        pass\n",
        "class circle(shape):\n",
        "    def __init__(self,radius):\n",
        "        self.radius=radius\n",
        "    def area(self):\n",
        "        return 3.14*self.radius**2\n",
        "class rectangle(shape):\n",
        "    def __init__(self,length,width):\n",
        "        self.length=length\n",
        "        self.width=width\n",
        "    def area(self):\n",
        "        return self.length*self.width\n",
        "c=circle(5)\n",
        "print(c.area())\n",
        "r=rectangle(4,6)\n",
        "print(r.area())"
      ],
      "metadata": {
        "colab": {
          "base_uri": "https://localhost:8080/"
        },
        "id": "FbPIEpT_kRR6",
        "outputId": "975c6242-92d7-4e6c-a1ab-108deb215e85"
      },
      "execution_count": 6,
      "outputs": [
        {
          "output_type": "stream",
          "name": "stdout",
          "text": [
            "78.5\n",
            "24\n"
          ]
        }
      ]
    },
    {
      "cell_type": "code",
      "source": [
        "#question3\n",
        "#implement a multi-level inheritance scenario where a class vechil has an attribute type. derive a calss car and further dervie a class electric car that adds a battery attribute."
      ],
      "metadata": {
        "id": "I2Wr8JsxlK5k"
      },
      "execution_count": 74,
      "outputs": []
    },
    {
      "cell_type": "code",
      "source": [
        "class vehicle:\n",
        "    def __init__(self,type):\n",
        "        self.type=type\n",
        "class car(vehicle):\n",
        "    def __init__(self,type,model):\n",
        "        super().__init__(type)\n",
        "        self.model=model\n",
        "class electric_car(car):\n",
        "    def __init__(self,type,model,battery):\n",
        "        super().__init__(type,model)\n",
        "        self.battery=battery\n",
        "ec=electric_car(\"car\",\"sedan\",\"lithium\")\n",
        "print(ec.type)\n",
        "print(ec.model)\n",
        "print(ec.battery)"
      ],
      "metadata": {
        "colab": {
          "base_uri": "https://localhost:8080/"
        },
        "id": "gBfGuzqTl53t",
        "outputId": "0591e25e-9be1-4ff9-89af-d60cb384ab96"
      },
      "execution_count": 8,
      "outputs": [
        {
          "output_type": "stream",
          "name": "stdout",
          "text": [
            "car\n",
            "sedan\n",
            "lithium\n"
          ]
        }
      ]
    },
    {
      "cell_type": "code",
      "source": [
        "#question4\n",
        "#demonstrate polymorphism by creating a base class bird with a method fly().create two derived classes sparrow and penguin that override the fly()method."
      ],
      "metadata": {
        "id": "cVt1JERVmleX"
      },
      "execution_count": 75,
      "outputs": []
    },
    {
      "cell_type": "code",
      "source": [
        "from os import name\n",
        "class bird:\n",
        "    def fly(self):\n",
        "        self.name = name\n",
        "    def fly(self):\n",
        "        print(\"bird can fly\")\n",
        "class sparrow(bird):\n",
        "    def fly(self):\n",
        "        print(\"sparrow can fly\")\n",
        "class penguin(bird):\n",
        "    def fly(self):\n",
        "        print(\"penguin can't fly\")\n",
        "        super().fly()\n",
        "s=sparrow()\n",
        "s.fly()\n",
        "p=penguin()\n",
        "p.fly()"
      ],
      "metadata": {
        "colab": {
          "base_uri": "https://localhost:8080/"
        },
        "id": "sYnm93RFnQWL",
        "outputId": "dbd8bff0-f2c7-4a14-b77c-c9098bbf807f"
      },
      "execution_count": 16,
      "outputs": [
        {
          "output_type": "stream",
          "name": "stdout",
          "text": [
            "sparrow can fly\n",
            "penguin can't fly\n",
            "bird can fly\n"
          ]
        }
      ]
    },
    {
      "cell_type": "code",
      "source": [
        "#question5\n",
        "#write a program tp demonstrate encapsulation by creating a class bank account with private attributes balance and methods to deposit,withdraw, and check balance."
      ],
      "metadata": {
        "id": "U5nh310rn5Ji"
      },
      "execution_count": 76,
      "outputs": []
    },
    {
      "cell_type": "code",
      "source": [
        "class bank_account:\n",
        "    def __init__(self,balance):\n",
        "        self.__balance=balance\n",
        "    def deposit(self,amount):\n",
        "        self.__balance+=amount\n",
        "    def withdraw(self,amount):\n",
        "        if amount<=self.__balance:\n",
        "            self.__balance-=amount\n",
        "        else:\n",
        "            print(\"insufficient balance\")\n",
        "    def check_balance(self):\n",
        "        return self.__balance\n",
        "b=bank_account(100000)\n",
        "b.deposit(50000)\n",
        "b.withdraw(3000)\n",
        "print(b.check_balance())"
      ],
      "metadata": {
        "colab": {
          "base_uri": "https://localhost:8080/"
        },
        "id": "E8LYyE0kq2YG",
        "outputId": "55861fbe-e8af-426d-8a65-5d45807448fc"
      },
      "execution_count": 19,
      "outputs": [
        {
          "output_type": "stream",
          "name": "stdout",
          "text": [
            "147000\n"
          ]
        }
      ]
    },
    {
      "cell_type": "code",
      "source": [
        "#question6\n",
        "#demonstrate runtime polymorphism using a method play() in a base class instrument. derive classes guitarand piano that implement their own version of play()."
      ],
      "metadata": {
        "id": "SAbj8GKWr8k_"
      },
      "execution_count": 78,
      "outputs": []
    },
    {
      "cell_type": "code",
      "source": [
        "class instrument:\n",
        "    def play(self):\n",
        "        pass\n",
        "class guitar(instrument):\n",
        "    def play(self):\n",
        "        print(\"guitar is playing\")\n",
        "class piano(instrument):\n",
        "    def play(self):\n",
        "        print(\"piano is playing\")\n",
        "instrument1 = guitar()\n",
        "instrument1.play()\n",
        "instrument2 = piano()\n",
        "instrument2.play()"
      ],
      "metadata": {
        "colab": {
          "base_uri": "https://localhost:8080/"
        },
        "id": "SywP65ltszVT",
        "outputId": "f2587313-f653-4c23-8bc3-c9258fabf4ea"
      },
      "execution_count": 21,
      "outputs": [
        {
          "output_type": "stream",
          "name": "stdout",
          "text": [
            "guitar is playing\n",
            "piano is playing\n"
          ]
        }
      ]
    },
    {
      "cell_type": "code",
      "source": [
        "#question7\n",
        "#create a class mathoperation with a class method add_numbers() to add two numbers and a static method substrac_numbers()to substract two numbers."
      ],
      "metadata": {
        "id": "5YZcqCtUtLLz"
      },
      "execution_count": 79,
      "outputs": []
    },
    {
      "cell_type": "code",
      "source": [
        "class Mathoperation:\n",
        "    def __init__(self,a,b):\n",
        "        self.a=a\n",
        "        self.b=b\n",
        "    def add(self):\n",
        "        return self.a+self.b\n",
        "    def sub(self):\n",
        "        return self.a-self.b\n",
        "result=Mathoperation(45,17)\n",
        "print(result.add())\n",
        "print(result.sub())"
      ],
      "metadata": {
        "colab": {
          "base_uri": "https://localhost:8080/"
        },
        "id": "2VJon4POt4Vb",
        "outputId": "bc77daf3-e9a1-4d6c-a8b9-56c54146f2f6"
      },
      "execution_count": 24,
      "outputs": [
        {
          "output_type": "stream",
          "name": "stdout",
          "text": [
            "62\n",
            "28\n"
          ]
        }
      ]
    },
    {
      "cell_type": "code",
      "source": [
        "#question8\n",
        "#implement a class person with a class merthod to count the total numbers of person created ."
      ],
      "metadata": {
        "id": "HUsWFtYZus8_"
      },
      "execution_count": 80,
      "outputs": []
    },
    {
      "cell_type": "code",
      "source": [
        "class person:\n",
        "    count=0\n",
        "    def __init__(self,name):\n",
        "        self.name=name\n",
        "        person.count+=1\n",
        "    @classmethod\n",
        "    def get_count(cls):\n",
        "        return cls.count\n",
        "        return f\"person(name='{self.name}')\"\n",
        "p1=person(\"tushar\")\n",
        "p2=person(\"subham\")\n",
        "print(person.get_count())\n"
      ],
      "metadata": {
        "colab": {
          "base_uri": "https://localhost:8080/"
        },
        "id": "_SKWNlfbvtto",
        "outputId": "f90dbbc3-0341-4ec4-c2ec-fbd3a0e0d502"
      },
      "execution_count": 84,
      "outputs": [
        {
          "output_type": "stream",
          "name": "stdout",
          "text": [
            "2\n"
          ]
        }
      ]
    },
    {
      "cell_type": "code",
      "source": [
        "#question9\n",
        "#write a class fraction with attribute numerator and denominator. override the str method to display the fraction as \"numerator/denominator\"."
      ],
      "metadata": {
        "id": "k62hliYoxQSQ"
      },
      "execution_count": 81,
      "outputs": []
    },
    {
      "cell_type": "code",
      "source": [
        "class fraction:\n",
        "  def __init__(self,numerator,denominator):\n",
        "    self.numerator=numerator\n",
        "    self.denominator=denominator\n",
        "  def __str__(self):\n",
        "    return f\"{self.numerator}/{self.denominator}\"\n",
        "f=fraction(3,4)\n",
        "print(f)\n",
        "f=fraction(5,6)\n",
        "print(f)"
      ],
      "metadata": {
        "colab": {
          "base_uri": "https://localhost:8080/"
        },
        "id": "f0XwVpG8yA8B",
        "outputId": "e2ce911c-8156-4a77-ed04-716af666484f"
      },
      "execution_count": 29,
      "outputs": [
        {
          "output_type": "stream",
          "name": "stdout",
          "text": [
            "3/4\n",
            "5/6\n"
          ]
        }
      ]
    },
    {
      "cell_type": "code",
      "source": [
        "#question10\n",
        "#demonstrate operator overloading by creating a class vector and overriding the add method to add two vectors."
      ],
      "metadata": {
        "id": "gxs2ApTyyiX7"
      },
      "execution_count": 82,
      "outputs": []
    },
    {
      "cell_type": "code",
      "source": [
        "class vector:\n",
        "    def __init__(self,x,y):\n",
        "        self.x=x\n",
        "        self.y=y\n",
        "    def __add__(self,other):\n",
        "        return vector(self.x+other.x,self.y+other.y)\n",
        "    def __str__(self):\n",
        "        return f\"({self.x},{self.y})\"\n",
        "v1=vector(1,2)\n",
        "v2=vector(3,4)\n",
        "v3=v1+v2\n",
        "print(v3)"
      ],
      "metadata": {
        "colab": {
          "base_uri": "https://localhost:8080/"
        },
        "id": "53PaH5U10Z3a",
        "outputId": "bbc07058-fcd4-4d39-d214-328dfcc15fc2"
      },
      "execution_count": 34,
      "outputs": [
        {
          "output_type": "stream",
          "name": "stdout",
          "text": [
            "(4,6)\n"
          ]
        }
      ]
    },
    {
      "cell_type": "code",
      "source": [
        "#question11\n",
        "#>> create a class person with attributes name and age.add a method great()that print \"hello,my name is{name}and i am {age} years old.\""
      ],
      "metadata": {
        "id": "0JsxkQB-2gRQ"
      },
      "execution_count": 37,
      "outputs": []
    },
    {
      "cell_type": "code",
      "source": [
        "class person:\n",
        "    def __init__(self,name,age):\n",
        "        self.name=name\n",
        "        self.age=age\n",
        "    def great(self):\n",
        "        print(f\"hello,my name is {self.name} and i am {self.age} years old.\")\n",
        "        return f\"person(name='{self.name}',age={self.age})\"\n",
        "p=person(\"Raj\",28)\n",
        "p.great()"
      ],
      "metadata": {
        "colab": {
          "base_uri": "https://localhost:8080/",
          "height": 53
        },
        "id": "7vhNZ3MR3FvE",
        "outputId": "a2faf938-ee3b-477a-a69c-09607d46624f"
      },
      "execution_count": 85,
      "outputs": [
        {
          "output_type": "stream",
          "name": "stdout",
          "text": [
            "hello,my name is Raj and i am 28 years old.\n"
          ]
        },
        {
          "output_type": "execute_result",
          "data": {
            "text/plain": [
              "\"person(name='Raj',age=28)\""
            ],
            "application/vnd.google.colaboratory.intrinsic+json": {
              "type": "string"
            }
          },
          "metadata": {},
          "execution_count": 85
        }
      ]
    },
    {
      "cell_type": "code",
      "source": [
        "#question12\n",
        "#implement a class student with attributes name and grades.create a method average_grade()to compute the average of the grades."
      ],
      "metadata": {
        "id": "AhtV3fpS0s2F"
      },
      "execution_count": 83,
      "outputs": []
    },
    {
      "cell_type": "code",
      "source": [
        "class student:\n",
        "    def __init__(self,name,grades):\n",
        "        self.name=name\n",
        "        self.grades=grades\n",
        "    def average_grade(self):\n",
        "        return sum(self.grades)/len(self.grades)\n",
        "        return f\"student(name='{self.name}',grades={self.grades})\"\n",
        "s=student(\"Raj\",[90,80,70,60])\n",
        "print(s.average_grade())\n",
        ""
      ],
      "metadata": {
        "colab": {
          "base_uri": "https://localhost:8080/"
        },
        "id": "4W7_lW2S1Yx9",
        "outputId": "cab1fb25-ea6e-4b62-dd12-8fcd8d60ab4a"
      },
      "execution_count": 86,
      "outputs": [
        {
          "output_type": "stream",
          "name": "stdout",
          "text": [
            "75.0\n"
          ]
        }
      ]
    },
    {
      "cell_type": "code",
      "source": [
        "#question13\n",
        "#create a class rectangle with method set_dimentiona() to set the dimension and area () to calculate the area"
      ],
      "metadata": {
        "id": "yDZ9xYc_3sk5"
      },
      "execution_count": 40,
      "outputs": []
    },
    {
      "cell_type": "code",
      "source": [
        "class rectangle:\n",
        "    def __init__(self,length,width):\n",
        "        self.length=length\n",
        "        self.width=width\n",
        "    def set_dimensions(self,length,width):\n",
        "        self.length=length\n",
        "        self.width=width\n",
        "        return f\"rectangle(length={self.length},width={self.width})\"\n",
        "    def area(self):\n",
        "        return self.length*self.width\n",
        "r=rectangle(4,5)\n",
        "print(r.area())"
      ],
      "metadata": {
        "colab": {
          "base_uri": "https://localhost:8080/"
        },
        "id": "YXiy6nZx4Aoc",
        "outputId": "dbe24d4c-5e23-48dd-d9b8-191d80f1f025"
      },
      "execution_count": 41,
      "outputs": [
        {
          "output_type": "stream",
          "name": "stdout",
          "text": [
            "20\n"
          ]
        }
      ]
    },
    {
      "cell_type": "code",
      "source": [
        "#question14\n",
        "#create a class employee with a method calculate_salary() that computes the salary based on hours worked and hourly rate.create a derived class manager that adds a bonus to the salary"
      ],
      "metadata": {
        "id": "LIUHnWqq4EKu"
      },
      "execution_count": 42,
      "outputs": []
    },
    {
      "cell_type": "code",
      "source": [
        "class employee:\n",
        "  def __init__(self,name,hours_worked,hourly_rate):\n",
        "    self.name=name\n",
        "    self.hours_worked=hours_worked\n",
        "    self.hourly_rate=hourly_rate\n",
        "  def calculate_salary(self,hours_worked):\n",
        "    salary= hours_worked*self.hourly_rate\n",
        "    return salary\n",
        "\n",
        "class manager(employee):\n",
        "  def __init__(self,name,hours_worked,hourly_rate,bonus):\n",
        "    super().__init__(name,hours_worked,hourly_rate)\n",
        "    self.bonus=bonus\n",
        "  def calculate_salary(self,hours_worked):\n",
        "    salary=super().calculate_salary(hours_worked)\n",
        "    return salary+self.bonus\n",
        "m=manager(\"Raj\",40,50,10000)\n",
        "print(m.calculate_salary(40))\n",
        "E=employee(\"tushar\",30,40)\n",
        "print(E.calculate_salary(40))"
      ],
      "metadata": {
        "colab": {
          "base_uri": "https://localhost:8080/"
        },
        "id": "XMpfpGVs4yxo",
        "outputId": "07ec0411-99ee-4305-fdca-c86f7a60a07e"
      },
      "execution_count": 87,
      "outputs": [
        {
          "output_type": "stream",
          "name": "stdout",
          "text": [
            "12000\n",
            "1600\n"
          ]
        }
      ]
    },
    {
      "cell_type": "code",
      "source": [
        "#question15\n",
        "#create a class product with attributes name,price,and quantity.implement a method total_price() that calculates the total price of the product."
      ],
      "metadata": {
        "id": "t_Qkwlnq8QV3"
      },
      "execution_count": 54,
      "outputs": []
    },
    {
      "cell_type": "code",
      "source": [
        "class product:\n",
        "    def __init__(self,name,price,quantity):\n",
        "        self.name=name\n",
        "        self.price=price\n",
        "        self.quantity=quantity\n",
        "    def total_price(self):\n",
        "        return self.price*self.quantity\n",
        "        return f\"product(name='{self.name}',price={self.price},quantity={self.quantity})\"\n",
        "p=product(\"pen\",10,2)\n",
        "print(p.total_price())"
      ],
      "metadata": {
        "colab": {
          "base_uri": "https://localhost:8080/"
        },
        "id": "lHsIcaSd9IgP",
        "outputId": "84ed4725-f928-478c-ba1b-6cf8aaf83510"
      },
      "execution_count": 55,
      "outputs": [
        {
          "output_type": "stream",
          "name": "stdout",
          "text": [
            "20\n"
          ]
        }
      ]
    },
    {
      "cell_type": "code",
      "source": [
        "#question 16\n",
        "#create a class animal with an abstract method sound().create two derived classes cow and sheep that implement the sound() method\n"
      ],
      "metadata": {
        "id": "WTs2nTPK9k60"
      },
      "execution_count": 56,
      "outputs": []
    },
    {
      "cell_type": "code",
      "source": [
        "class animal:\n",
        "  def sound(self):\n",
        "    pass\n",
        "class cow(animal):\n",
        "  def sound(self):\n",
        "    print(\"moo\")\n",
        "class sheep(animal):\n",
        "  def sound(self):\n",
        "    print(\"baa\")\n",
        "c=cow()\n",
        "c.sound()\n",
        "c=sheep()\n",
        "c.sound()"
      ],
      "metadata": {
        "colab": {
          "base_uri": "https://localhost:8080/"
        },
        "id": "RPbqeaNI99nJ",
        "outputId": "e56f3da4-d90c-4c66-f8bd-52b4e0938fc5"
      },
      "execution_count": 58,
      "outputs": [
        {
          "output_type": "stream",
          "name": "stdout",
          "text": [
            "moo\n",
            "baa\n"
          ]
        }
      ]
    },
    {
      "cell_type": "code",
      "source": [
        "#question17\n",
        "#create a class book with attributes titles ,author,and year_published.add a method get_book_info()that returns a formatted string with the book's deatils."
      ],
      "metadata": {
        "id": "H1vJ2Qpv-DEM"
      },
      "execution_count": 59,
      "outputs": []
    },
    {
      "cell_type": "code",
      "source": [
        " class book:\n",
        "    def __init__(self,title,author,year_published):\n",
        "        self.title=title\n",
        "        self.author=author\n",
        "        self.year_published=year_published\n",
        "    def get_book_info(self):\n",
        "        return f\"{self.title} by {self.author} ({self.year_published})\"\n",
        "b=book(\"Rashmirathi\",\"ramdhari singh dinkar\",1952)\n",
        "print(b.get_book_info())"
      ],
      "metadata": {
        "colab": {
          "base_uri": "https://localhost:8080/"
        },
        "id": "xXebxzJx-sjU",
        "outputId": "3eb0ff96-d2a5-4d2b-cd7a-2a5aee092890"
      },
      "execution_count": 71,
      "outputs": [
        {
          "output_type": "stream",
          "name": "stdout",
          "text": [
            "Rashmirathi by ramdhari singh dinkar (1952)\n"
          ]
        }
      ]
    },
    {
      "cell_type": "code",
      "source": [
        "#question18\n",
        "#create a class house with attributes address and price.create a derived class mansion that adds on attributes number_of_rooms."
      ],
      "metadata": {
        "id": "kyVh6okZ_z07"
      },
      "execution_count": 69,
      "outputs": []
    },
    {
      "cell_type": "code",
      "source": [
        "class house:\n",
        "    def __init__(self,address,price):\n",
        "        self.address=address\n",
        "        self.price=price\n",
        "class mansion(house):\n",
        "    def __init__(self,address,price,number_of_rooms):\n",
        "        super().__init__(address,price)\n",
        "        self.number_of_rooms=number_of_rooms\n",
        "m=mansion(\"123 Main St\",200000,4)\n",
        "print(m.address)\n",
        "print(m.price)\n",
        "print(m.number_of_rooms)"
      ],
      "metadata": {
        "colab": {
          "base_uri": "https://localhost:8080/"
        },
        "id": "l4laGSMXCpRc",
        "outputId": "d00c3d6b-27cb-448a-ede8-9a759277920e"
      },
      "execution_count": 70,
      "outputs": [
        {
          "output_type": "stream",
          "name": "stdout",
          "text": [
            "123 Main St\n",
            "200000\n",
            "4\n"
          ]
        }
      ]
    },
    {
      "cell_type": "code",
      "source": [],
      "metadata": {
        "id": "4NZqieIuC-4s"
      },
      "execution_count": null,
      "outputs": []
    }
  ]
}